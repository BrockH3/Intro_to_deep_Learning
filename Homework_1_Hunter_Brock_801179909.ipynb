{
  "nbformat": 4,
  "nbformat_minor": 0,
  "metadata": {
    "colab": {
      "provenance": [],
      "gpuType": "T4",
      "authorship_tag": "ABX9TyNL3za0ESssZg1/44yqdsX1",
      "include_colab_link": true
    },
    "kernelspec": {
      "name": "python3",
      "display_name": "Python 3"
    },
    "language_info": {
      "name": "python"
    },
    "accelerator": "GPU"
  },
  "cells": [
    {
      "cell_type": "markdown",
      "metadata": {
        "id": "view-in-github",
        "colab_type": "text"
      },
      "source": [
        "<a href=\"https://colab.research.google.com/github/BrockH3/Intro_to_deep_Learning/blob/main/Homework_1_Hunter_Brock_801179909.ipynb\" target=\"_parent\"><img src=\"https://colab.research.google.com/assets/colab-badge.svg\" alt=\"Open In Colab\"/></a>"
      ]
    },
    {
      "cell_type": "code",
      "execution_count": null,
      "metadata": {
        "id": "C6UULIO6TVcn"
      },
      "outputs": [],
      "source": [
        "import pandas as pd\n",
        "import numpy as np\n",
        "import torch\n",
        "import torchvision\n",
        "import torch.nn as nn\n",
        "import torch.optim as optim\n",
        "import matplotlib.pyplot as plt\n",
        "from torchvision import transforms\n",
        "from sklearn.model_selection import train_test_split\n",
        "from torch.utils.data import TensorDataset, Dataset, DataLoader\n",
        "from sklearn.metrics import precision_score, recall_score, f1_score, confusion_matrix\n"
      ]
    },
    {
      "cell_type": "code",
      "source": [
        "train = torchvision.datasets.CIFAR10(root = './data', train = True, download = True, transform = transforms.ToTensor())\n",
        "trainloader = torch.utils.data.DataLoader(train, shuffle=True, batch_size = 100 )\n",
        "\n",
        "val = torchvision.datasets.CIFAR10(root = './data', train = False, download = True, transform = transforms.ToTensor())\n",
        "valloader = torch.utils.data.DataLoader(val, shuffle=False, batch_size = 100)\n",
        "\n"
      ],
      "metadata": {
        "colab": {
          "base_uri": "https://localhost:8080/"
        },
        "id": "5wYR1wrPUsRh",
        "outputId": "f1903387-916b-45b5-f6ef-8a0c3a0fa183"
      },
      "execution_count": null,
      "outputs": [
        {
          "output_type": "stream",
          "name": "stdout",
          "text": [
            "Files already downloaded and verified\n",
            "Files already downloaded and verified\n"
          ]
        }
      ]
    },
    {
      "cell_type": "code",
      "source": [
        "#classifier model\n",
        "class CIFAR10classifier(nn.Module):\n",
        "  def __init__(self):\n",
        "    #3072 inputs, 3 fully connected hidden layers, 10 outputs\n",
        "    super(CIFAR10classifier, self).__init__()\n",
        "    self.fc1 = nn.Linear(3072,1000)\n",
        "    self.fc2 = nn.Linear(1000, 500)\n",
        "    self.fc3 = nn.Linear(500, 50)\n",
        "    self.out = nn.Linear(50,10)\n",
        "\n",
        "    self.relu = nn.ReLU()\n",
        "\n",
        "  def forward(self, x):\n",
        "    x = self.fc1(x)\n",
        "    x = self.relu(x)\n",
        "    x = self.fc2(x)\n",
        "    x = self.relu(x)\n",
        "    x = self.fc3(x)\n",
        "    x = self.relu(x)\n",
        "    x = self.out(x)\n",
        "    return x\n",
        "\n",
        "#initialize model\n",
        "model = CIFAR10classifier()"
      ],
      "metadata": {
        "id": "XiBpM_lhaTnR"
      },
      "execution_count": null,
      "outputs": []
    },
    {
      "cell_type": "code",
      "source": [
        "#loss function\n",
        "criterion = nn.CrossEntropyLoss()\n",
        "#optimizer\n",
        "optimizer = optim.SGD(model.parameters(), lr = .01)\n",
        "\n",
        "#training loop\n",
        "epochs = 20\n",
        "for epoch in range(epochs):\n",
        "  model.train()\n",
        "  for inputs, targets in trainloader:\n",
        "    optimizer.zero_grad()\n",
        "    batch_size = inputs.shape[0]\n",
        "    outputs = model(inputs.view(batch_size,-1))\n",
        "    loss = criterion(outputs,targets)\n",
        "    loss.backward()\n",
        "    optimizer.step()\n",
        "  if (epoch%5 ==0):\n",
        "    print('epoch: ', epoch, 'loss: ', loss)\n"
      ],
      "metadata": {
        "id": "si2rcZWtcDyb",
        "colab": {
          "base_uri": "https://localhost:8080/"
        },
        "outputId": "1981391c-7829-4d1b-e0d2-d8da065237cc"
      },
      "execution_count": null,
      "outputs": [
        {
          "output_type": "stream",
          "name": "stdout",
          "text": [
            "epoch:  0 loss:  tensor(2.1599, grad_fn=<NllLossBackward0>)\n",
            "epoch:  5 loss:  tensor(1.7604, grad_fn=<NllLossBackward0>)\n",
            "epoch:  10 loss:  tensor(1.7615, grad_fn=<NllLossBackward0>)\n",
            "epoch:  15 loss:  tensor(1.4423, grad_fn=<NllLossBackward0>)\n"
          ]
        }
      ]
    },
    {
      "cell_type": "code",
      "source": [
        "print('loss: ', float(loss))\n"
      ],
      "metadata": {
        "colab": {
          "base_uri": "https://localhost:8080/"
        },
        "id": "Qh1_qTGX6Q3l",
        "outputId": "71478cc0-4692-4ec1-d684-cedcc491d77f"
      },
      "execution_count": null,
      "outputs": [
        {
          "output_type": "stream",
          "name": "stdout",
          "text": [
            "loss:  1.5902841091156006\n"
          ]
        }
      ]
    },
    {
      "cell_type": "code",
      "source": [
        "#validation and scores\n",
        "model.eval()\n",
        "correct = 0\n",
        "total = 0\n",
        "all_predictions = []\n",
        "all_targets = []\n",
        "with torch.no_grad():\n",
        "    for inputs, targets in valloader:\n",
        "      batch_size = inputs.shape[0]\n",
        "      outputs = model(inputs.view(batch_size,-1))\n",
        "      _, predicted = torch.max(outputs, 1)\n",
        "      total += targets.size(0)\n",
        "      correct += (predicted == targets).sum().item()\n",
        "      all_predictions.extend(predicted.cpu().numpy())\n",
        "      all_targets.extend(targets.cpu().numpy())\n"
      ],
      "metadata": {
        "id": "1D3G8gE96XGC"
      },
      "execution_count": null,
      "outputs": []
    },
    {
      "cell_type": "code",
      "source": [
        "accuracy = correct/total\n",
        "precision = precision_score(all_targets,all_predictions, average = 'macro')\n",
        "recall = recall_score(all_targets,all_predictions, average = 'macro')\n",
        "f1 = f1_score(all_targets,all_predictions, average = 'macro')\n",
        "decision_matrix = confusion_matrix(all_targets, all_predictions)\n",
        "\n",
        "print('accuracy: ', accuracy, ' recall: ', recall, ' f1 sore: ', f1)"
      ],
      "metadata": {
        "colab": {
          "base_uri": "https://localhost:8080/"
        },
        "id": "PkI1_VBX_ATt",
        "outputId": "f77da3cc-b6f3-49ca-b65e-fca14a06c1bb"
      },
      "execution_count": null,
      "outputs": [
        {
          "output_type": "stream",
          "name": "stdout",
          "text": [
            "accuracy:  0.472  recall:  0.47199999999999986  f1 sore:  0.46712920833910526\n"
          ]
        }
      ]
    },
    {
      "cell_type": "code",
      "source": [
        "print(decision_matrix)"
      ],
      "metadata": {
        "colab": {
          "base_uri": "https://localhost:8080/"
        },
        "id": "hsc9Uz1WGeML",
        "outputId": "1ba05379-809e-44d3-f3a1-3d4e992ded06"
      },
      "execution_count": null,
      "outputs": [
        {
          "output_type": "stream",
          "name": "stdout",
          "text": [
            "[[454  35  58  89  15  37  37  63 111 101]\n",
            " [ 19 587   4  49   6  26  16  38  31 224]\n",
            " [ 58  28 231 180  66  96 201  99  19  22]\n",
            " [ 10  16  38 466  14 194 134  61  11  56]\n",
            " [ 36  14 119 123 235  82 220 127  16  28]\n",
            " [  6  13  55 292  16 376 101  97  18  26]\n",
            " [  2   9  29 175  46  54 629  29   7  20]\n",
            " [ 14  16  34  93  36  89  53 585   6  74]\n",
            " [100  87   8  67  16  35  14  17 512 144]\n",
            " [ 18 151   2  62   5  16  32  45  24 645]]\n"
          ]
        }
      ]
    },
    {
      "cell_type": "code",
      "source": [
        "from google.colab import drive\n",
        "drive.mount('/content/drive')"
      ],
      "metadata": {
        "colab": {
          "base_uri": "https://localhost:8080/"
        },
        "id": "kKO5ExE_cNCj",
        "outputId": "a9dcc861-7f6d-43c6-f951-5becbce1b5a8"
      },
      "execution_count": null,
      "outputs": [
        {
          "output_type": "stream",
          "name": "stdout",
          "text": [
            "Mounted at /content/drive\n"
          ]
        }
      ]
    },
    {
      "cell_type": "code",
      "source": [
        "filepath = '/content/drive/My Drive/Intro to deep learning/datasets/house-train.csv'\n",
        "\n",
        "house_ds = pd.read_csv(filepath)\n",
        "y = house_ds.pop('SalePrice')\n",
        "x = house_ds\n",
        "\n",
        "columns = ['OverallQual', 'GrLivArea', 'GarageArea', 'TotalBsmtSF'\n",
        "                , 'FullBath', 'YearBuilt', 'YearRemodAdd', 'Fireplaces'\n",
        "                ,'LotFrontage','WoodDeckSF','OpenPorchSF'\n",
        "                ,'ExterQual','Neighborhood','MSZoning'\n",
        "                ,'Alley','LotShape','LandContour','Condition1','HouseStyle','MasVnrType','SaleCondition']\n",
        "\n",
        "x = x[columns]\n",
        "# Remove Nulls\n",
        "## GarageArea in test data\n",
        "x['GarageArea'] = x['GarageArea'].fillna(x['GarageArea'].mean())\n",
        "\n",
        "x['TotalBsmtSF'] = x['TotalBsmtSF'].fillna(x['TotalBsmtSF'].mean())\n",
        "\n",
        "\n",
        "#split validation and training sets\n",
        "np.random.seed(0)\n",
        "x_train, x_val,y_train,y_val = train_test_split(x, y, train_size = .8, test_size = .2, random_state = 0)\n",
        "x_train = torch.tensor(x_train, dtype=torch.float32)\n",
        "x_val = torch.tensor(x_val, dtype=torch.float32)\n",
        "y_train = torch.tensor(y_train, dtype=torch.float32)\n",
        "y_val = torch.tensor(y_val, dtype=torch.float32)\n",
        "\n",
        "#create datasets and dataloaders\n",
        "train_dataset = TensorDataset(x_train,y_train)\n",
        "val_dataset = TensorDataset(x_val,y_val)\n",
        "train_loader = DataLoader(dataset=train_dataset,shuffle=True)\n",
        "val_loader = DataLoader(dataset=val_dataset,shuffle=True)"
      ],
      "metadata": {
        "colab": {
          "base_uri": "https://localhost:8080/",
          "height": 453
        },
        "id": "tusa-Wv1cNKP",
        "outputId": "6ceffcf7-219f-4b0d-aa41-d161e928b942"
      },
      "execution_count": null,
      "outputs": [
        {
          "output_type": "stream",
          "name": "stderr",
          "text": [
            "<ipython-input-13-0a4a0179299b>:16: SettingWithCopyWarning: \n",
            "A value is trying to be set on a copy of a slice from a DataFrame.\n",
            "Try using .loc[row_indexer,col_indexer] = value instead\n",
            "\n",
            "See the caveats in the documentation: https://pandas.pydata.org/pandas-docs/stable/user_guide/indexing.html#returning-a-view-versus-a-copy\n",
            "  x['GarageArea'] = x['GarageArea'].fillna(x['GarageArea'].mean())\n",
            "<ipython-input-13-0a4a0179299b>:18: SettingWithCopyWarning: \n",
            "A value is trying to be set on a copy of a slice from a DataFrame.\n",
            "Try using .loc[row_indexer,col_indexer] = value instead\n",
            "\n",
            "See the caveats in the documentation: https://pandas.pydata.org/pandas-docs/stable/user_guide/indexing.html#returning-a-view-versus-a-copy\n",
            "  x['TotalBsmtSF'] = x['TotalBsmtSF'].fillna(x['TotalBsmtSF'].mean())\n"
          ]
        },
        {
          "output_type": "error",
          "ename": "ValueError",
          "evalue": "could not determine the shape of object type 'DataFrame'",
          "traceback": [
            "\u001b[0;31m---------------------------------------------------------------------------\u001b[0m",
            "\u001b[0;31mValueError\u001b[0m                                Traceback (most recent call last)",
            "\u001b[0;32m<ipython-input-13-0a4a0179299b>\u001b[0m in \u001b[0;36m<cell line: 24>\u001b[0;34m()\u001b[0m\n\u001b[1;32m     22\u001b[0m \u001b[0mnp\u001b[0m\u001b[0;34m.\u001b[0m\u001b[0mrandom\u001b[0m\u001b[0;34m.\u001b[0m\u001b[0mseed\u001b[0m\u001b[0;34m(\u001b[0m\u001b[0;36m0\u001b[0m\u001b[0;34m)\u001b[0m\u001b[0;34m\u001b[0m\u001b[0;34m\u001b[0m\u001b[0m\n\u001b[1;32m     23\u001b[0m \u001b[0mx_train\u001b[0m\u001b[0;34m,\u001b[0m \u001b[0mx_val\u001b[0m\u001b[0;34m,\u001b[0m\u001b[0my_train\u001b[0m\u001b[0;34m,\u001b[0m\u001b[0my_val\u001b[0m \u001b[0;34m=\u001b[0m \u001b[0mtrain_test_split\u001b[0m\u001b[0;34m(\u001b[0m\u001b[0mx\u001b[0m\u001b[0;34m,\u001b[0m \u001b[0my\u001b[0m\u001b[0;34m,\u001b[0m \u001b[0mtrain_size\u001b[0m \u001b[0;34m=\u001b[0m \u001b[0;36m.8\u001b[0m\u001b[0;34m,\u001b[0m \u001b[0mtest_size\u001b[0m \u001b[0;34m=\u001b[0m \u001b[0;36m.2\u001b[0m\u001b[0;34m,\u001b[0m \u001b[0mrandom_state\u001b[0m \u001b[0;34m=\u001b[0m \u001b[0;36m0\u001b[0m\u001b[0;34m)\u001b[0m\u001b[0;34m\u001b[0m\u001b[0;34m\u001b[0m\u001b[0m\n\u001b[0;32m---> 24\u001b[0;31m \u001b[0mx_train\u001b[0m \u001b[0;34m=\u001b[0m \u001b[0mtorch\u001b[0m\u001b[0;34m.\u001b[0m\u001b[0mtensor\u001b[0m\u001b[0;34m(\u001b[0m\u001b[0mx_train\u001b[0m\u001b[0;34m,\u001b[0m \u001b[0mdtype\u001b[0m\u001b[0;34m=\u001b[0m\u001b[0mtorch\u001b[0m\u001b[0;34m.\u001b[0m\u001b[0mfloat32\u001b[0m\u001b[0;34m)\u001b[0m\u001b[0;34m\u001b[0m\u001b[0;34m\u001b[0m\u001b[0m\n\u001b[0m\u001b[1;32m     25\u001b[0m \u001b[0mx_val\u001b[0m \u001b[0;34m=\u001b[0m \u001b[0mtorch\u001b[0m\u001b[0;34m.\u001b[0m\u001b[0mtensor\u001b[0m\u001b[0;34m(\u001b[0m\u001b[0mx_val\u001b[0m\u001b[0;34m,\u001b[0m \u001b[0mdtype\u001b[0m\u001b[0;34m=\u001b[0m\u001b[0mtorch\u001b[0m\u001b[0;34m.\u001b[0m\u001b[0mfloat32\u001b[0m\u001b[0;34m)\u001b[0m\u001b[0;34m\u001b[0m\u001b[0;34m\u001b[0m\u001b[0m\n\u001b[1;32m     26\u001b[0m \u001b[0my_train\u001b[0m \u001b[0;34m=\u001b[0m \u001b[0mtorch\u001b[0m\u001b[0;34m.\u001b[0m\u001b[0mtensor\u001b[0m\u001b[0;34m(\u001b[0m\u001b[0my_train\u001b[0m\u001b[0;34m,\u001b[0m \u001b[0mdtype\u001b[0m\u001b[0;34m=\u001b[0m\u001b[0mtorch\u001b[0m\u001b[0;34m.\u001b[0m\u001b[0mfloat32\u001b[0m\u001b[0;34m)\u001b[0m\u001b[0;34m\u001b[0m\u001b[0;34m\u001b[0m\u001b[0m\n",
            "\u001b[0;31mValueError\u001b[0m: could not determine the shape of object type 'DataFrame'"
          ]
        }
      ]
    },
    {
      "cell_type": "code",
      "source": [
        "#create model for regression, 2 hidden layers, 21 inputs 1 output, relu activation function\n",
        "class reg(nn.Module):\n",
        "  def __init__(self):\n",
        "    super(reg,self).__init__()\n",
        "    self.fc1 = nn.Linear(21,100)\n",
        "    self.fc2 = nn.Linear(100,20)\n",
        "    self.fc3 = nn.Linear(20,1)\n",
        "\n",
        "  def forward(self,x):\n",
        "    x = torch.relu(self.fc1(x))\n",
        "    x = torch.relu(self.fc2(x))\n",
        "    x = torch.relu(self.fc3(x))\n",
        "    return x"
      ],
      "metadata": {
        "id": "rPONzjwFcNPK"
      },
      "execution_count": null,
      "outputs": []
    },
    {
      "cell_type": "code",
      "source": [
        "#regression training loop, (influenced by github code)\n",
        "model = reg()\n",
        "criterion = nn.MSELoss()\n",
        "optimizer = optim.SGD(model.parameters(),lr = 0.01)\n",
        "\n",
        "train_loss = 0\n",
        "train_loss_epochs = []\n",
        "val_loss_epochs = []\n",
        "\n",
        "epochs = 50\n",
        "\n",
        "for epoch in range(epochs):\n",
        "  model.train()\n",
        "  for inputs,targets in train_loader:\n",
        "    optimizer.zero_grad()\n",
        "    out = model(inputs)\n",
        "    loss = criterion(out,targets)\n",
        "    loss.backward()\n",
        "    optimizer.step()\n",
        "    train_loss += loss.item()*inputs.size(0)\n",
        "  train_loss/=len(train_loader.dataset)\n",
        "  train_loss_epochs.append(train_loss)\n",
        "  val_loss = 0\n",
        "  val_total = 0\n",
        "\n",
        "  with torch.no_grad():\n",
        "    for inputs,targets in val_loader:\n",
        "      out = model(val_loader)\n",
        "      loss = criterion(out,targets)\n",
        "      val_loss += loss.item()*inputs.size(0)\n",
        "      val_total += ((out-targets)**2).sum().item()\n",
        "\n",
        "  val_loss/=len(val_loader.dataset)\n",
        "  val_loss_epochs.append(val_loss)\n",
        "\n",
        "  rmse = np.sqrt(val_total/len(val_loader.dataset))\n",
        "\n",
        "print('train loss: ', train_loss, ' val_loss: ', val_loss, ' RMSE: ', rmse)\n",
        "\n",
        "\n",
        "\n"
      ],
      "metadata": {
        "id": "px6BlnbeKeV5"
      },
      "execution_count": null,
      "outputs": []
    },
    {
      "cell_type": "code",
      "source": [
        "\n"
      ],
      "metadata": {
        "id": "tyxyofbBL078"
      },
      "execution_count": null,
      "outputs": []
    }
  ]
}