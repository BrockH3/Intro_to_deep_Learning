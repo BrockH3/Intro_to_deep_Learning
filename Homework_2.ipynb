{
  "nbformat": 4,
  "nbformat_minor": 0,
  "metadata": {
    "colab": {
      "provenance": [],
      "gpuType": "T4",
      "include_colab_link": true
    },
    "kernelspec": {
      "name": "python3",
      "display_name": "Python 3"
    },
    "language_info": {
      "name": "python"
    },
    "accelerator": "GPU"
  },
  "cells": [
    {
      "cell_type": "markdown",
      "metadata": {
        "id": "view-in-github",
        "colab_type": "text"
      },
      "source": [
        "<a href=\"https://colab.research.google.com/github/BrockH3/Intro_to_deep_Learning/blob/main/Homework_2.ipynb\" target=\"_parent\"><img src=\"https://colab.research.google.com/assets/colab-badge.svg\" alt=\"Open In Colab\"/></a>"
      ]
    },
    {
      "cell_type": "code",
      "execution_count": 1,
      "metadata": {
        "id": "S0gS5z4vpfS-"
      },
      "outputs": [],
      "source": [
        "import torch\n",
        "import torchvision\n",
        "from torchvision import transforms, datasets\n",
        "import torch.nn as nn\n",
        "import torch.optim as optim\n",
        "from torch.utils.data import DataLoader\n",
        "import matplotlib.pyplot as plt"
      ]
    },
    {
      "cell_type": "code",
      "source": [
        "#Problem 1\n",
        "#Alexnet conv size of 5x5 with stride = 2\n",
        "class AlexNet(nn.Module):\n",
        "  def __init__(self):\n",
        "    super(AlexNet,self).__init__()\n",
        "    self.features = nn.Sequential(\n",
        "    #Conv layer 1\n",
        "      nn.Conv2d(3,50,kernel_size = 5,stride = 1, padding = 2),\n",
        "      nn.ReLU(),\n",
        "      nn.MaxPool2d(kernel_size = 3, stride = 2),\n",
        "      #Conv layer 2\n",
        "      nn.Conv2d(50, 100, kernel_size = 3, stride = 1, padding = 2),\n",
        "      nn.ReLU(),\n",
        "      nn.MaxPool2d(kernel_size = 3, stride = 2),\n",
        "      #Conv layer 3\n",
        "      nn.Conv2d(100, 256, kernel_size = 3, stride = 1, padding = 1),\n",
        "      nn.ReLU(),\n",
        "      #Conv layer 4\n",
        "      nn.Conv2d(256, 256, kernel_size = 3, stride = 1, padding = 1),\n",
        "      nn.ReLU(),\n",
        "      #Conv layer 5\n",
        "      nn.Conv2d(256, 128, kernel_size = 3, stride = 1),\n",
        "      nn.ReLU(),\n",
        "      nn.Dropout(.5),\n",
        "      nn.MaxPool2d(kernel_size = 3, stride = 2)\n",
        "    )\n",
        "    self.classifier = nn.Sequential(\n",
        "      #linear layer 6\n",
        "      nn.Linear(512,512),\n",
        "      nn.ReLU(),\n",
        "      nn.Dropout(.5),\n",
        "      nn.Linear(512,256),\n",
        "      nn.ReLU(),\n",
        "      nn.Dropout(.5),\n",
        "      nn.Linear(256,10)\n",
        "    )\n",
        "  def forward(self,x):\n",
        "    x = self.features(x)\n",
        "    x = torch.flatten(x,1)\n",
        "    x = self.classifier(x)\n",
        "    return x"
      ],
      "metadata": {
        "id": "Vs2JIdQ3pnSl"
      },
      "execution_count": 2,
      "outputs": []
    },
    {
      "cell_type": "code",
      "source": [
        "\n",
        "transform = transforms.Compose([transforms.ToTensor(),transforms.Normalize((0.5, 0.5, 0.5), (0.5, 0.5, 0.5))])\n",
        "\n",
        "train_set = datasets.CIFAR10(root='./data', train=True, download=True, transform=transform)\n",
        "test_set = datasets.CIFAR10(root='./data', train=False, download=True, transform=transform)\n",
        "\n",
        "train_loader = DataLoader(train_set, batch_size=32, shuffle=True)\n",
        "test_loader = DataLoader(test_set, batch_size=32, shuffle=False)\n"
      ],
      "metadata": {
        "id": "fnBJYJxippFb",
        "colab": {
          "base_uri": "https://localhost:8080/"
        },
        "outputId": "ae519340-db4b-4cec-9f0c-ef775f4477c9"
      },
      "execution_count": 3,
      "outputs": [
        {
          "output_type": "stream",
          "name": "stdout",
          "text": [
            "Downloading https://www.cs.toronto.edu/~kriz/cifar-10-python.tar.gz to ./data/cifar-10-python.tar.gz\n"
          ]
        },
        {
          "output_type": "stream",
          "name": "stderr",
          "text": [
            "100%|██████████| 170498071/170498071 [00:03<00:00, 48487653.61it/s]\n"
          ]
        },
        {
          "output_type": "stream",
          "name": "stdout",
          "text": [
            "Extracting ./data/cifar-10-python.tar.gz to ./data\n",
            "Files already downloaded and verified\n"
          ]
        }
      ]
    },
    {
      "cell_type": "code",
      "source": [
        "device = torch.device(\"cuda:0\" if torch.cuda.is_available() else \"cpu\")\n",
        "print(\"Using device:\", device)"
      ],
      "metadata": {
        "colab": {
          "base_uri": "https://localhost:8080/"
        },
        "id": "UCV77O3fRBh7",
        "outputId": "045335b0-a68a-4a53-e987-f55a66858826"
      },
      "execution_count": 7,
      "outputs": [
        {
          "output_type": "stream",
          "name": "stdout",
          "text": [
            "Using device: cuda:0\n"
          ]
        }
      ]
    },
    {
      "cell_type": "code",
      "source": [
        "#declare model\n",
        "model = AlexNet()\n",
        "net = model.to(device)\n",
        "criterion = nn.CrossEntropyLoss()\n",
        "optimizer = optim.SGD(model.parameters(),lr = 0.001)\n",
        "\n",
        "train_loss_list = []\n",
        "val_loss_list = []\n",
        "val_accuracy_list = []"
      ],
      "metadata": {
        "id": "BReIqOTbppID"
      },
      "execution_count": 8,
      "outputs": []
    },
    {
      "cell_type": "code",
      "source": [
        "#used train and val code from github to test with GPU instead of CPU\n",
        "for epoch in range(10):\n",
        "    running_loss = 0.0\n",
        "    net.train()\n",
        "    #train loop\n",
        "    for i, data in enumerate(train_loader, 0):\n",
        "        inputs, labels = data[0].to(device), data[1].to(device)\n",
        "        optimizer.zero_grad()\n",
        "        outputs = net(inputs)\n",
        "        loss = criterion(outputs, labels)\n",
        "        loss.backward()\n",
        "        optimizer.step()\n",
        "        running_loss += loss.item()\n",
        "    train_loss_list.append(running_loss / len(train_loader))\n",
        "\n",
        "    # val loop\n",
        "    running_loss = 0.0\n",
        "    correct = 0\n",
        "    total = 0\n",
        "    net.eval()\n",
        "    with torch.no_grad():\n",
        "        for data in test_loader:\n",
        "            images, labels = data[0].to(device), data[1].to(device)\n",
        "            outputs = net(images)\n",
        "            loss = criterion(outputs, labels)\n",
        "            running_loss += loss.item()\n",
        "            _, predicted = torch.max(outputs.data, 1)\n",
        "            total += labels.size(0)\n",
        "            correct += (predicted == labels).sum().item()\n",
        "    val_loss_list.append(running_loss / len(test_loader))\n",
        "    val_accuracy = 100 * correct / total\n",
        "    val_accuracy_list.append(val_accuracy)\n"
      ],
      "metadata": {
        "id": "Sv_wTcSKRYOV"
      },
      "execution_count": 9,
      "outputs": []
    },
    {
      "cell_type": "code",
      "source": [
        "#plots\n",
        "\n",
        "plt.plot(train_loss_list)\n",
        "plt.plot(val_loss_list)\n",
        "plt.legend()\n",
        "plt.show()"
      ],
      "metadata": {
        "id": "O0wKYC6fjCkI",
        "colab": {
          "base_uri": "https://localhost:8080/",
          "height": 447
        },
        "outputId": "762475a3-e061-460a-c998-02f15496858b"
      },
      "execution_count": 10,
      "outputs": [
        {
          "output_type": "stream",
          "name": "stderr",
          "text": [
            "WARNING:matplotlib.legend:No artists with labels found to put in legend.  Note that artists whose label start with an underscore are ignored when legend() is called with no argument.\n"
          ]
        },
        {
          "output_type": "display_data",
          "data": {
            "text/plain": [
              "<Figure size 640x480 with 1 Axes>"
            ],
            "image/png": "[encoded data removed]"
          },
          "metadata": {}
        }
      ]
    },
    {
      "cell_type": "code",
      "source": [
        "print('training loss: ', train_loss_list[-1], 'val loss: ', val_loss_list[-1], 'val accuracy: ', val_accuracy_list[-1])"
      ],
      "metadata": {
        "id": "tCADWN55O-A3",
        "colab": {
          "base_uri": "https://localhost:8080/"
        },
        "outputId": "3d5575ce-ad63-4153-8bcb-0534c6efbd4b"
      },
      "execution_count": 11,
      "outputs": [
        {
          "output_type": "stream",
          "name": "stdout",
          "text": [
            "training loss:  2.2971363837949297 val loss:  2.298458631808004 val accuracy:  [10.0, 10.0, 10.0, 10.0, 10.0, 10.01, 10.99, 12.42, 13.12, 15.78]\n"
          ]
        }
      ]
    },
    {
      "cell_type": "code",
      "source": [
        "#Problem 2\n",
        "#build block\n",
        "class block(nn.Module):\n",
        "  def __init__(self, in_channels, out_channels, stride = 1):\n",
        "    super(block, self).__init__()\n",
        "    self.conv1 = nn.Conv2d(in_channels, out_channels, kernel_size = 3, stride = 1, padding = 1),\n",
        "    self.bn1 = nn.BatchNorm2d(out_channels),\n",
        "    self.conv2 = nn.Conv2d(in_channels, out_channels, kernel_size = 3, stride = 1, padding = 1),\n",
        "    self.bn2 = nn.BatchNorm2d(out_channels),\n",
        "    self.relu = nn.ReLU()\n",
        "\n",
        "  def forward(self,x):\n",
        "    x =  self.conv1(x)\n",
        "    x = self.bn1(x)\n",
        "    x = self.conv2(x)\n",
        "    x = self.bn2(x)\n",
        "    x = self.relu(x)\n",
        "    return x\n",
        "class ResNet18(nn.Module):\n",
        "  def __init__(self):\n",
        "    super(ResNet18, self).__init__()\n",
        "    self.conv1 = nn.Conv2d(3, 64, kernel_size = 5, stride = 1, padding = 1),\n",
        "    self.bn1 = nn.BatchNorm2d(64),\n",
        "    self.relu = nn.ReLU(),\n",
        "    self.mp = nn.MaxPool2d(kernel_size = 2, stride = 1),\n",
        "\n",
        "    self.layer1 = self._make_layer(64, 64, stride = 1),\n",
        "    self.layer2 = self._make_layer(64, 128, stride = 1),\n",
        "    self.layer3 = self._make_layer(128, 256, stride = 2),\n",
        "    self.layer4 = self._make_layer(256, 256, stride = 2),\n",
        "\n",
        "    self.flatten = nn.Flatten(1)\n",
        "    self.linear = nn.Linear(256,10)\n",
        "  def _make_layer(self, in_channels, out_channels, stride):\n",
        "    return nn.Sequential(\n",
        "        block(in_channels, out_channels, stride)\n",
        "    )\n",
        "  def forward(self, x):\n",
        "    x = self.conv1(x)\n",
        "    x = self.bn1(x)\n",
        "    x = self.relu(x)\n",
        "    x = self.mp(x)\n",
        "\n",
        "    x = self.layer1(x)\n",
        "    x = self.layer2(x)\n",
        "    x = self.layer3(x)\n",
        "    x = self.layer4(x)\n",
        "\n",
        "    x = self.mp(x)\n",
        "    x = self.flatten(x)\n",
        "    x = self.linear(x)\n",
        "    return x"
      ],
      "metadata": {
        "id": "8vo6d_N6ppK6"
      },
      "execution_count": 18,
      "outputs": []
    },
    {
      "cell_type": "code",
      "source": [
        "#declare model\n",
        "model = ResNet18()\n",
        "criterion = nn.CrossEntropyLoss()\n",
        "optimizer = optim.SGD(model.parameters(),lr = 0.001)\n",
        "\n",
        "train_loss_list = []\n",
        "val_loss_list = []\n",
        "val_accuracy_list = []"
      ],
      "metadata": {
        "id": "DettakRCA-Et",
        "colab": {
          "base_uri": "https://localhost:8080/"
        },
        "outputId": "ba8fa8a1-922b-4dd3-e471-239f6e9dd60a"
      },
      "execution_count": 24,
      "outputs": [
        {
          "output_type": "stream",
          "name": "stdout",
          "text": [
            "[]\n"
          ]
        }
      ]
    },
    {
      "cell_type": "code",
      "source": [
        "for epoch in range(10):\n",
        "    running_loss = 0.0\n",
        "    net.train()\n",
        "    #train loop\n",
        "    for i, data in enumerate(train_loader, 0):\n",
        "        inputs, labels = data[0].to(device), data[1].to(device)\n",
        "        optimizer.zero_grad()\n",
        "        outputs = net(inputs)\n",
        "        loss = criterion(outputs, labels)\n",
        "        loss.backward()\n",
        "        optimizer.step()\n",
        "        running_loss += loss.item()\n",
        "    train_loss_list.append(running_loss / len(train_loader))\n",
        "\n",
        "    # val loop\n",
        "    running_loss = 0.0\n",
        "    correct = 0\n",
        "    total = 0\n",
        "    net.eval()\n",
        "    with torch.no_grad():\n",
        "        for data in test_loader:\n",
        "            images, labels = data[0].to(device), data[1].to(device)\n",
        "            outputs = net(images)\n",
        "            loss = criterion(outputs, labels)\n",
        "            running_loss += loss.item()\n",
        "            _, predicted = torch.max(outputs.data, 1)\n",
        "            total += labels.size(0)\n",
        "            correct += (predicted == labels).sum().item()\n",
        "    val_loss_list.append(running_loss / len(test_loader))\n",
        "    val_accuracy = 100 * correct / total\n",
        "    val_accuracy_list.append(val_accuracy)\n"
      ],
      "metadata": {
        "id": "qdNnzwcQBBN6"
      },
      "execution_count": 26,
      "outputs": []
    },
    {
      "cell_type": "code",
      "source": [
        "#plots\n",
        "\n",
        "plt.plot(train_loss_list)\n",
        "plt.plot(val_loss_list)\n",
        "plt.legend()\n",
        "plt.show()"
      ],
      "metadata": {
        "colab": {
          "base_uri": "https://localhost:8080/",
          "height": 447
        },
        "id": "6bQESedoUuBo",
        "outputId": "27af1757-fd5f-4743-c1bf-6c36780f5064"
      },
      "execution_count": 29,
      "outputs": [
        {
          "output_type": "stream",
          "name": "stderr",
          "text": [
            "WARNING:matplotlib.legend:No artists with labels found to put in legend.  Note that artists whose label start with an underscore are ignored when legend() is called with no argument.\n"
          ]
        },
        {
          "output_type": "display_data",
          "data": {
            "text/plain": [
              "<Figure size 640x480 with 1 Axes>"
            ],
            "image/png": "[encoded data removed]"
          },
          "metadata": {}
        }
      ]
    },
    {
      "cell_type": "code",
      "source": [
        "print('training loss: ', train_loss_list[-1], 'val loss: ', val_loss_list[-1], 'val accuracy: ', val_accuracy_list[-1])"
      ],
      "metadata": {
        "colab": {
          "base_uri": "https://localhost:8080/"
        },
        "id": "xsg3kIO4Yfr1",
        "outputId": "f44882bf-2146-4890-f681-dd8bbeffcb3a"
      },
      "execution_count": 30,
      "outputs": [
        {
          "output_type": "stream",
          "name": "stdout",
          "text": [
            "training loss:  2.2960994826321106 val loss:  2.298458631808004 val accuracy:  15.78\n"
          ]
        }
      ]
    }
  ]
}