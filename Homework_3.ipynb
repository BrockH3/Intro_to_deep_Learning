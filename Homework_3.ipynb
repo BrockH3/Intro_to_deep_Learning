{
  "cells": [
    {
      "cell_type": "markdown",
      "metadata": {
        "id": "view-in-github",
        "colab_type": "text"
      },
      "source": [
        "<a href=\"https://colab.research.google.com/github/BrockH3/Intro_to_deep_Learning/blob/main/Homework_3.ipynb\" target=\"_parent\"><img src=\"https://colab.research.google.com/assets/colab-badge.svg\" alt=\"Open In Colab\"/></a>"
      ]
    },
    {
      "cell_type": "code",
      "execution_count": 1,
      "id": "102b4cf5",
      "metadata": {
        "id": "102b4cf5"
      },
      "outputs": [],
      "source": [
        "import torch\n",
        "import torch.nn as nn\n",
        "import numpy as np\n",
        "import torch.optim as optim\n",
        "from sklearn.model_selection import train_test_split\n",
        "import matplotlib.pyplot as plt\n",
        "from torch.utils.data import Dataset, DataLoader\n",
        "import requests\n"
      ]
    },
    {
      "cell_type": "code",
      "execution_count": 2,
      "id": "0d75b3d3",
      "metadata": {
        "colab": {
          "base_uri": "https://localhost:8080/"
        },
        "id": "0d75b3d3",
        "outputId": "3d3ab55d-56b8-4854-b4a3-b227f79d2552"
      },
      "outputs": [
        {
          "output_type": "execute_result",
          "data": {
            "text/plain": [
              "True"
            ]
          },
          "metadata": {},
          "execution_count": 2
        }
      ],
      "source": [
        "torch.cuda.is_available()"
      ]
    },
    {
      "cell_type": "code",
      "execution_count": 3,
      "id": "a924050c",
      "metadata": {
        "colab": {
          "base_uri": "https://localhost:8080/"
        },
        "id": "a924050c",
        "outputId": "1f9dc687-4da9-4ae6-c996-ddaf736a082b"
      },
      "outputs": [
        {
          "output_type": "stream",
          "name": "stdout",
          "text": [
            "Using device: cuda:0\n"
          ]
        }
      ],
      "source": [
        "#select gpu if available\n",
        "device = torch.device(\"cuda:0\" if torch.cuda.is_available() else \"cpu\")\n",
        "print(\"Using device:\", device)"
      ]
    },
    {
      "cell_type": "code",
      "execution_count": 4,
      "id": "5a81c715",
      "metadata": {
        "id": "5a81c715"
      },
      "outputs": [],
      "source": [
        "text = \"Next character prediction is a fundamental task in the field of natural language processing (NLP) that involves predicting the next character in a sequence of text based on the characters that precede it. This task is essential for various applications, including text auto-completion, spell checking, and even in the development of sophisticated AI models capable of generating human-like text. At its core, next character prediction relies on statistical models or deep learning algorithms to analyze a given sequence of text and predict which character is most likely to follow. These predictions are based on patterns and relationships learned from large datasets of text during the training phase of the model. One of the most popular approaches to next character prediction involves the use of Recurrent Neural Networks (RNNs), and more specifically, a variant called Long Short-Term Memory (LSTM) networks. RNNs are particularly well-suited for sequential data like text, as they can maintain information in 'memory' about previous characters to inform the prediction of the next character. LSTM networks enhance this capability by being able to remember long-term dependencies, making them even more effective for next character prediction tasks. Training a model for next character prediction involves feeding it large amounts of text data, allowing it to learn the probability of each character's appearance following a sequence of characters. During this training process, the model adjusts its parameters to minimize the difference between its predictions and the actual outcomes, thus improving its predictive accuracy over time. Once trained, the model can be used to predict the next character in a given piece of text by considering the sequence of characters that precede it. This can enhance user experience in text editing software, improve efficiency in coding environments with auto-completion features, and enable more natural interactions with AI-based chatbots and virtual assistants. In summary, next character prediction plays a crucial role in enhancing the capabilities of various NLP applications, making text-based interactions more efficient, accurate, and human-like. Through the use of advanced machine learning models like RNNs and LSTMs, next character prediction continues to evolve, opening new possibilities for the future of text-based technology.\""
      ]
    },
    {
      "cell_type": "code",
      "execution_count": 8,
      "id": "a1f902c4",
      "metadata": {
        "id": "a1f902c4"
      },
      "outputs": [],
      "source": [
        "chars = sorted(list(set(text)))\n",
        "\n",
        "ix_to_char = {i: ch for i, ch in enumerate(chars)}\n",
        "char_to_ix = {ch: i for i, ch in enumerate(chars)}\n",
        "chars = sorted(list(set(text)))\n",
        "\n",
        "# Preparing the dataset\n",
        "max_length = 30\n",
        "X = []\n",
        "y = []\n",
        "for i in range(len(text) - max_length):\n",
        "    sequence = text[i:i + max_length]\n",
        "    label = text[i + max_length]\n",
        "    X.append([char_to_ix[char] for char in sequence])\n",
        "    y.append(char_to_ix[label])\n",
        "\n",
        "X = np.array(X)\n",
        "y = np.array(y)\n",
        "\n",
        "# Splitting the dataset into training and validation sets\n",
        "X_train, X_val, y_train, y_val = train_test_split(X, y, test_size=0.2, random_state=1)\n",
        "\n",
        "# Convert to pytorch tensors\n",
        "X_train = torch.tensor(X_train, dtype=torch.long).to(device)\n",
        "y_train = torch.tensor(y_train, dtype=torch.long).to(device)\n",
        "X_val = torch.tensor(X_val, dtype=torch.long).to(device)\n",
        "y_val = torch.tensor(y_val, dtype=torch.long).to(device)\n"
      ]
    },
    {
      "cell_type": "code",
      "execution_count": 9,
      "id": "fd6c11a6",
      "metadata": {
        "id": "fd6c11a6"
      },
      "outputs": [],
      "source": [
        "# Defining the LSTM model\n",
        "class RNNModel(nn.Module):\n",
        "    def __init__(self, input_size, hidden_size, output_size):\n",
        "        super(RNNModel, self).__init__()\n",
        "        self.hidden_size = hidden_size\n",
        "        self.embedding = nn.Embedding(input_size, hidden_size)\n",
        "        self.rnn = nn.LSTM(hidden_size, hidden_size, batch_first=True)\n",
        "        self.fc = nn.Linear(hidden_size, output_size)\n",
        "\n",
        "    def forward(self, x):\n",
        "        embedded = self.embedding(x)\n",
        "        output, _ = self.rnn(embedded)\n",
        "        output = self.fc(output[:, -1, :])\n",
        "        return output\n"
      ]
    },
    {
      "cell_type": "code",
      "execution_count": 10,
      "id": "f950e89c",
      "metadata": {
        "colab": {
          "base_uri": "https://localhost:8080/"
        },
        "id": "f950e89c",
        "outputId": "6a803b6d-5edc-4431-ddb8-ef40c2e0d1ea"
      },
      "outputs": [
        {
          "output_type": "stream",
          "name": "stdout",
          "text": [
            "Epoch 10, Loss: 2.225863218307495, Validation Loss: 2.4574451446533203, Validation Accuracy: 0.3411017060279846\n",
            "Epoch 20, Loss: 1.6268959045410156, Validation Loss: 2.133866548538208, Validation Accuracy: 0.4300847351551056\n",
            "Epoch 30, Loss: 1.1361559629440308, Validation Loss: 2.015730381011963, Validation Accuracy: 0.4682203531265259\n",
            "Epoch 40, Loss: 0.7343453168869019, Validation Loss: 2.045931339263916, Validation Accuracy: 0.4830508530139923\n",
            "Epoch 50, Loss: 0.4360255300998688, Validation Loss: 2.146634340286255, Validation Accuracy: 0.49788135290145874\n",
            "Epoch 60, Loss: 0.23831747472286224, Validation Loss: 2.2760772705078125, Validation Accuracy: 0.49152541160583496\n",
            "Epoch 70, Loss: 0.14199554920196533, Validation Loss: 2.4347126483917236, Validation Accuracy: 0.4894067943096161\n",
            "Epoch 80, Loss: 0.07668814808130264, Validation Loss: 2.5792384147644043, Validation Accuracy: 0.48516950011253357\n",
            "Epoch 90, Loss: 0.0454573929309845, Validation Loss: 2.6731324195861816, Validation Accuracy: 0.49152541160583496\n",
            "Epoch 100, Loss: 0.02928215079009533, Validation Loss: 2.756002902984619, Validation Accuracy: 0.4894067943096161\n"
          ]
        }
      ],
      "source": [
        "hidden_size = 128\n",
        "learning_rate = 0.01\n",
        "epochs = 100\n",
        "\n",
        "# Model, loss, and optimizer\n",
        "model = RNNModel(len(chars), hidden_size, len(chars)).to(device)\n",
        "criterion = nn.CrossEntropyLoss()\n",
        "optimizer = optim.Adam(model.parameters(), lr=learning_rate)\n",
        "for epoch in range(epochs):\n",
        "    model.train()\n",
        "    optimizer.zero_grad()\n",
        "    output = model(X_train)\n",
        "    loss = criterion(output, y_train)\n",
        "    loss.backward()\n",
        "    optimizer.step()\n",
        "\n",
        "    # Validation\n",
        "    model.eval()\n",
        "    with torch.no_grad():\n",
        "        val_output = model(X_val)\n",
        "        val_loss = criterion(val_output, y_val)\n",
        "        #The use of the underscore _ is a common Python convention to indicate that the actual maximum values returned by torch.max are not needed and can be disregarded.\n",
        "        #What we are interested in is the indices of these maximum values, which are captured by the variable predicted. These indices represent the model's predictions for each example in the validation set.\n",
        "        _, predicted = torch.max(val_output, 1)\n",
        "        val_accuracy = (predicted == y_val).float().mean()\n",
        "\n",
        "    if (epoch+1) % 10 == 0:\n",
        "        print(f'Epoch {epoch+1}, Loss: {loss.item()}, Validation Loss: {val_loss.item()}, Validation Accuracy: {val_accuracy.item()}')\n"
      ]
    },
    {
      "cell_type": "code",
      "execution_count": 11,
      "id": "cc63c07e",
      "metadata": {
        "colab": {
          "base_uri": "https://localhost:8080/"
        },
        "id": "cc63c07e",
        "outputId": "48f79d0f-a84b-402a-8f3d-9fb132c7f803"
      },
      "outputs": [
        {
          "output_type": "stream",
          "name": "stdout",
          "text": [
            "Epoch 10, Loss: 1.9092665910720825, Validation Loss: 2.2649757862091064, Validation Accuracy: 0.40042373538017273\n",
            "Epoch 20, Loss: 1.319973111152649, Validation Loss: 2.069046974182129, Validation Accuracy: 0.47457626461982727\n",
            "Epoch 30, Loss: 0.8501211404800415, Validation Loss: 2.098813533782959, Validation Accuracy: 0.49788135290145874\n",
            "Epoch 40, Loss: 0.4903351962566376, Validation Loss: 2.266392946243286, Validation Accuracy: 0.5\n",
            "Epoch 50, Loss: 0.26094070076942444, Validation Loss: 2.5374670028686523, Validation Accuracy: 0.4957627058029175\n",
            "Epoch 60, Loss: 0.1291925013065338, Validation Loss: 2.8426644802093506, Validation Accuracy: 0.48516950011253357\n",
            "Epoch 70, Loss: 0.09086263924837112, Validation Loss: 3.0460381507873535, Validation Accuracy: 0.4788135588169098\n",
            "Epoch 80, Loss: 0.05952737480401993, Validation Loss: 3.1959269046783447, Validation Accuracy: 0.4830508530139923\n",
            "Epoch 90, Loss: 0.038359384983778, Validation Loss: 3.3519158363342285, Validation Accuracy: 0.47033897042274475\n",
            "Epoch 100, Loss: 0.029999369755387306, Validation Loss: 3.4249045848846436, Validation Accuracy: 0.47033897042274475\n"
          ]
        }
      ],
      "source": [
        "# Defining the RNN model\n",
        "class RNNModel(nn.Module):\n",
        "    def __init__(self, input_size, hidden_size, output_size):\n",
        "        super(RNNModel, self).__init__()\n",
        "        self.hidden_size = hidden_size\n",
        "        self.embedding = nn.Embedding(input_size, hidden_size)\n",
        "        self.rnn = nn.RNN(hidden_size, hidden_size, batch_first=True)\n",
        "        self.fc = nn.Linear(hidden_size, output_size)\n",
        "\n",
        "    def forward(self, x):\n",
        "        embedded = self.embedding(x)\n",
        "        output, _ = self.rnn(embedded)\n",
        "        output = self.fc(output[:, -1, :])\n",
        "        return output\n",
        "\n",
        "\n",
        "hidden_size = 128\n",
        "learning_rate = 0.01\n",
        "epochs = 100\n",
        "\n",
        "# Model, loss, and optimizer\n",
        "model = RNNModel(len(chars), hidden_size, len(chars)).to(device)\n",
        "criterion = nn.CrossEntropyLoss()\n",
        "optimizer = optim.Adam(model.parameters(), lr=learning_rate)\n",
        "for epoch in range(epochs):\n",
        "    model.train()\n",
        "    optimizer.zero_grad()\n",
        "    output = model(X_train)\n",
        "    loss = criterion(output, y_train)\n",
        "    loss.backward()\n",
        "    optimizer.step()\n",
        "\n",
        "    # Validation\n",
        "    model.eval()\n",
        "    with torch.no_grad():\n",
        "        val_output = model(X_val)\n",
        "        val_loss = criterion(val_output, y_val)\n",
        "        #The use of the underscore _ is a common Python convention to indicate that the actual maximum values returned by torch.max are not needed and can be disregarded.\n",
        "        #What we are interested in is the indices of these maximum values, which are captured by the variable predicted. These indices represent the model's predictions for each example in the validation set.\n",
        "        _, predicted = torch.max(val_output, 1)\n",
        "        val_accuracy = (predicted == y_val).float().mean()\n",
        "\n",
        "    if (epoch+1) % 10 == 0:\n",
        "        print(f'Epoch {epoch+1}, Loss: {loss.item()}, Validation Loss: {val_loss.item()}, Validation Accuracy: {val_accuracy.item()}')\n"
      ]
    },
    {
      "cell_type": "code",
      "execution_count": 12,
      "id": "6e1af567",
      "metadata": {
        "colab": {
          "base_uri": "https://localhost:8080/"
        },
        "id": "6e1af567",
        "outputId": "b2d2cd78-99e0-4944-d2c5-8fd844be02e4"
      },
      "outputs": [
        {
          "output_type": "stream",
          "name": "stdout",
          "text": [
            "Epoch 10, Loss: 2.0185775756835938, Validation Loss: 2.3338141441345215, Validation Accuracy: 0.38771185278892517\n",
            "Epoch 20, Loss: 1.3454917669296265, Validation Loss: 2.083854913711548, Validation Accuracy: 0.4618644118309021\n",
            "Epoch 30, Loss: 0.8087945580482483, Validation Loss: 2.0465424060821533, Validation Accuracy: 0.5042372941970825\n",
            "Epoch 40, Loss: 0.4036268889904022, Validation Loss: 2.1761839389801025, Validation Accuracy: 0.5169491767883301\n",
            "Epoch 50, Loss: 0.18009166419506073, Validation Loss: 2.3765764236450195, Validation Accuracy: 0.5275423526763916\n",
            "Epoch 60, Loss: 0.07571472972631454, Validation Loss: 2.60168194770813, Validation Accuracy: 0.5190678238868713\n",
            "Epoch 70, Loss: 0.039570536464452744, Validation Loss: 2.804356813430786, Validation Accuracy: 0.5127118825912476\n",
            "Epoch 80, Loss: 0.023731088265776634, Validation Loss: 2.929187774658203, Validation Accuracy: 0.508474588394165\n",
            "Epoch 90, Loss: 0.03242560848593712, Validation Loss: 3.0149919986724854, Validation Accuracy: 0.5211864709854126\n",
            "Epoch 100, Loss: 0.01885446161031723, Validation Loss: 3.120532512664795, Validation Accuracy: 0.508474588394165\n"
          ]
        }
      ],
      "source": [
        "# Defining the GRU model\n",
        "class RNNModel(nn.Module):\n",
        "    def __init__(self, input_size, hidden_size, output_size):\n",
        "        super(RNNModel, self).__init__()\n",
        "        self.hidden_size = hidden_size\n",
        "        self.embedding = nn.Embedding(input_size, hidden_size)\n",
        "        self.rnn = nn.GRU(hidden_size, hidden_size, batch_first=True)\n",
        "        self.fc = nn.Linear(hidden_size, output_size)\n",
        "\n",
        "    def forward(self, x):\n",
        "        embedded = self.embedding(x)\n",
        "        output, _ = self.rnn(embedded)\n",
        "        output = self.fc(output[:, -1, :])\n",
        "        return output\n",
        "\n",
        "\n",
        "hidden_size = 128\n",
        "learning_rate = 0.01\n",
        "epochs = 100\n",
        "\n",
        "model = RNNModel(len(chars), hidden_size, len(chars)).to(device)\n",
        "criterion = nn.CrossEntropyLoss()\n",
        "optimizer = optim.Adam(model.parameters(), lr=learning_rate)\n",
        "for epoch in range(epochs):\n",
        "    model.train()\n",
        "    optimizer.zero_grad()\n",
        "    output = model(X_train)\n",
        "    loss = criterion(output, y_train)\n",
        "    loss.backward()\n",
        "    optimizer.step()\n",
        "\n",
        "    # Validation\n",
        "    model.eval()\n",
        "    with torch.no_grad():\n",
        "        val_output = model(X_val)\n",
        "        val_loss = criterion(val_output, y_val)\n",
        "        _, predicted = torch.max(val_output, 1)\n",
        "        val_accuracy = (predicted == y_val).float().mean()\n",
        "\n",
        "    if (epoch+1) % 10 == 0:\n",
        "        print(f'Epoch {epoch+1}, Loss: {loss.item()}, Validation Loss: {val_loss.item()}, Validation Accuracy: {val_accuracy.item()}')\n"
      ]
    },
    {
      "cell_type": "code",
      "execution_count": 25,
      "id": "86ffced1",
      "metadata": {
        "id": "86ffced1"
      },
      "outputs": [],
      "source": [
        "# Step 1: Download the dataset\n",
        "url = \"https://raw.githubusercontent.com/karpathy/char-rnn/master/data/tinyshakespeare/input.txt\"\n",
        "response = requests.get(url)\n",
        "text = response.text  # This is the entire text data\n",
        "\n",
        "# Step 2: Prepare the dataset\n",
        "sequence_length = 30\n",
        "# Create a character mapping to integers\n",
        "chars = sorted(list(set(text)))\n",
        "char_to_int = {ch: i for i, ch in enumerate(chars)}\n",
        "int_to_char = {i: ch for i, ch in enumerate(chars)}\n",
        "\n",
        "# Encode the text into integers\n",
        "encoded_text = [char_to_int[ch] for ch in text]\n",
        "\n",
        "# Create sequences and targets\n",
        "sequences = []\n",
        "targets = []\n",
        "for i in range(0, len(encoded_text) - sequence_length):\n",
        "    seq = encoded_text[i:i+sequence_length]\n",
        "    target = encoded_text[i+sequence_length]\n",
        "    sequences.append(seq)\n",
        "    targets.append(target)\n",
        "\n",
        "# Convert lists to PyTorch tensors\n",
        "sequences = torch.tensor(sequences, dtype=torch.long)\n",
        "targets = torch.tensor(targets, dtype=torch.long)\n",
        "\n",
        "# Step 3: Create a dataset class\n",
        "class CharDataset(Dataset):\n",
        "    def __init__(self, sequences, targets):\n",
        "        self.sequences = sequences\n",
        "        self.targets = targets\n",
        "\n",
        "    def __len__(self):\n",
        "        return len(self.sequences)\n",
        "\n",
        "    def __getitem__(self, index):\n",
        "        return self.sequences[index], self.targets[index]\n",
        "\n",
        "# Instantiate the dataset\n",
        "dataset = CharDataset(sequences, targets)\n",
        "\n",
        "# Step 4: Create data loaders\n",
        "batch_size = 128\n",
        "train_size = int(len(dataset) * 0.8)\n",
        "test_size = len(dataset) - train_size\n",
        "train_dataset, test_dataset = torch.utils.data.random_split(dataset, [train_size, test_size])\n",
        "\n",
        "train_loader = DataLoader(train_dataset, shuffle=True, batch_size=batch_size)\n",
        "test_loader = DataLoader(test_dataset, shuffle=False, batch_size=batch_size)\n"
      ]
    },
    {
      "cell_type": "code",
      "execution_count": 26,
      "id": "13f6b06e",
      "metadata": {
        "id": "13f6b06e"
      },
      "outputs": [],
      "source": [
        "#LSTM model\n",
        "class LSTMModel(nn.Module):\n",
        "    def __init__(self, input_size, hidden_size, output_size):\n",
        "        super(LSTMModel, self).__init__()\n",
        "        self.hidden_size = hidden_size\n",
        "        self.embedding = nn.Embedding(input_size, hidden_size)\n",
        "        self.rnn = nn.LSTM(hidden_size, hidden_size, batch_first=True)\n",
        "        self.fc = nn.Linear(hidden_size, output_size)\n",
        "\n",
        "    def forward(self, x):\n",
        "        embedded = self.embedding(x)\n",
        "        output, _ = self.rnn(embedded)\n",
        "        output = self.fc(output[:, -1, :])\n",
        "        return output\n"
      ]
    },
    {
      "cell_type": "code",
      "execution_count": 27,
      "id": "54e2cd0e",
      "metadata": {
        "colab": {
          "base_uri": "https://localhost:8080/"
        },
        "id": "54e2cd0e",
        "outputId": "c928405d-77e5-46e4-ce4b-32a27d0e5429"
      },
      "outputs": [
        {
          "output_type": "stream",
          "name": "stdout",
          "text": [
            "Epoch 10, Loss: 2.679677963256836, Validation Loss: 1.6076472997665405, Validation Accuracy: 0.5051546096801758\n",
            "Epoch 20, Loss: 1.4840112924575806, Validation Loss: 1.6756868362426758, Validation Accuracy: 0.4639175236225128\n",
            "Epoch 30, Loss: 1.7531142234802246, Validation Loss: 1.65836763381958, Validation Accuracy: 0.42268040776252747\n",
            "Epoch 40, Loss: 1.2279257774353027, Validation Loss: 1.6670217514038086, Validation Accuracy: 0.44329896569252014\n",
            "Epoch 50, Loss: 2.200448989868164, Validation Loss: 1.7713879346847534, Validation Accuracy: 0.4536082446575165\n"
          ]
        }
      ],
      "source": [
        "hidden_size = 64\n",
        "learning_rate = 0.005\n",
        "epochs = 50\n",
        "\n",
        "model = LSTMModel(len(chars), hidden_size, len(chars)).to(device)\n",
        "criterion = nn.CrossEntropyLoss()\n",
        "optimizer = torch.optim.Adam(model.parameters(), lr=learning_rate)\n",
        "\n",
        "for epoch in range(epochs):\n",
        "    for seq, labels in train_loader:\n",
        "      seq = seq.to(device)\n",
        "      labels = labels.to(device)\n",
        "      optimizer.zero_grad()\n",
        "      y_pred = model(seq)\n",
        "      loss = criterion(y_pred, labels)\n",
        "      loss.backward()\n",
        "      optimizer.step()\n",
        "\n",
        "# Predict future values\n",
        "    with torch.no_grad():\n",
        "        for seq, labels in test_loader:\n",
        "          seq = seq.to(device)\n",
        "          labels = labels.to(device)\n",
        "          val_output = model(seq)\n",
        "          val_loss = criterion(val_output, labels)\n",
        "          _, predicted = torch.max(val_output, 1)\n",
        "          val_accuracy = (predicted == labels).float().mean()\n",
        "    if (epoch+1) % 10 == 0:\n",
        "        print(f'Epoch {epoch+1}, Loss: {loss.item()}, Validation Loss: {val_loss.item()}, Validation Accuracy: {val_accuracy.item()}')"
      ]
    },
    {
      "cell_type": "code",
      "execution_count": 28,
      "id": "f1fe1cd8",
      "metadata": {
        "id": "f1fe1cd8"
      },
      "outputs": [],
      "source": [
        "#GRU model\n",
        "class GRUModel(nn.Module):\n",
        "    def __init__(self, input_size, hidden_size, output_size):\n",
        "        super(GRUModel, self).__init__()\n",
        "        self.hidden_size = hidden_size\n",
        "        self.embedding = nn.Embedding(input_size, hidden_size)\n",
        "        self.rnn = nn.GRU(hidden_size, hidden_size, batch_first=True)\n",
        "        self.fc = nn.Linear(hidden_size, output_size)\n",
        "\n",
        "    def forward(self, x):\n",
        "        embedded = self.embedding(x)\n",
        "        output, _ = self.rnn(embedded)\n",
        "        output = self.fc(output[:, -1, :])\n",
        "        return output\n"
      ]
    },
    {
      "cell_type": "code",
      "execution_count": 29,
      "id": "9164b189",
      "metadata": {
        "colab": {
          "base_uri": "https://localhost:8080/"
        },
        "id": "9164b189",
        "outputId": "451cbad6-c2b9-49e8-dffd-6a825d8facb0"
      },
      "outputs": [
        {
          "output_type": "stream",
          "name": "stdout",
          "text": [
            "Epoch 10, Loss: 4.2449445724487305, Validation Loss: 1.9027674198150635, Validation Accuracy: 0.39175257086753845\n",
            "Epoch 20, Loss: 1.9570497274398804, Validation Loss: 1.9007139205932617, Validation Accuracy: 0.4639175236225128\n",
            "Epoch 30, Loss: 2.086622476577759, Validation Loss: 1.8944710493087769, Validation Accuracy: 0.39175257086753845\n",
            "Epoch 40, Loss: 1.2223998308181763, Validation Loss: 1.9960131645202637, Validation Accuracy: 0.3711340129375458\n",
            "Epoch 50, Loss: 1.7271795272827148, Validation Loss: 1.9356003999710083, Validation Accuracy: 0.3814432919025421\n"
          ]
        }
      ],
      "source": [
        "hidden_size = 64\n",
        "learning_rate = 0.005\n",
        "epochs = 50\n",
        "\n",
        "model = GRUModel(len(chars), hidden_size, len(chars)).to(device)\n",
        "criterion = nn.CrossEntropyLoss()\n",
        "optimizer = torch.optim.Adam(model.parameters(), lr=learning_rate)\n",
        "\n",
        "for epoch in range(epochs):\n",
        "    for seq, labels in train_loader:\n",
        "      seq = seq.to(device)\n",
        "      labels = labels.to(device)\n",
        "      optimizer.zero_grad()\n",
        "      y_pred = model(seq)\n",
        "      loss = criterion(y_pred, labels)\n",
        "      loss.backward()\n",
        "      optimizer.step()\n",
        "\n",
        "# Predict future values\n",
        "    with torch.no_grad():\n",
        "        for seq, labels in test_loader:\n",
        "            seq = seq.to(device)\n",
        "            labels = labels.to(device)\n",
        "            val_output = model(seq)\n",
        "            val_loss = criterion(val_output, labels)\n",
        "            _, predicted = torch.max(val_output, 1)\n",
        "            val_accuracy = (predicted == labels).float().mean()\n",
        "    if (epoch+1) % 10 == 0:\n",
        "        print(f'Epoch {epoch+1}, Loss: {loss.item()}, Validation Loss: {val_loss.item()}, Validation Accuracy: {val_accuracy.item()}')"
      ]
    }
  ],
  "metadata": {
    "kernelspec": {
      "display_name": "Python 3",
      "name": "python3"
    },
    "language_info": {
      "codemirror_mode": {
        "name": "ipython",
        "version": 3
      },
      "file_extension": ".py",
      "mimetype": "text/x-python",
      "name": "python",
      "nbconvert_exporter": "python",
      "pygments_lexer": "ipython3",
      "version": "3.11.5"
    },
    "colab": {
      "provenance": [],
      "machine_shape": "hm",
      "gpuType": "A100",
      "include_colab_link": true
    },
    "accelerator": "GPU"
  },
  "nbformat": 4,
  "nbformat_minor": 5
}